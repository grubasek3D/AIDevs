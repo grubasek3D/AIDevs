{
 "cells": [
  {
   "cell_type": "code",
   "execution_count": null,
   "metadata": {},
   "outputs": [],
   "source": [
    "from task_manager import TaskManager\n",
    "import json\n",
    "from openai import OpenAI\n",
    "# Tworzymy instancję TaskManager\n",
    "task_manager = TaskManager()"
   ]
  },
  {
   "cell_type": "code",
   "execution_count": null,
   "metadata": {},
   "outputs": [],
   "source": [
    "taskName = \"liar\"\n",
    "\n",
    "# pobranie tokena\n",
    "token = task_manager.getToken(taskName)\n",
    "\n",
    "# pobranie podpowiedzi\n",
    "# task_manager.getHint(taskName)\n",
    "\n",
    "task = task_manager.getTask(token)"
   ]
  },
  {
   "cell_type": "code",
   "execution_count": null,
   "metadata": {},
   "outputs": [],
   "source": [
    "client = OpenAI()\n",
    "\n",
    "question = \"What is love?\"\n",
    "response = task_manager.sendData(token, {\"question\": question})"
   ]
  },
  {
   "cell_type": "code",
   "execution_count": null,
   "metadata": {},
   "outputs": [],
   "source": [
    "response_answer = response[\"answer\"]\n",
    "model = \"gpt-3.5-turbo\"\n",
    "message = [\n",
    "        {\"role\": \"system\",\n",
    "        \"content\": f\"\"\"You are working as a censor system. \n",
    "                    Please check if this sentence is answer to question:\n",
    "                    {question}\n",
    "                    ### Answer only YES or NO.\"\"\"},\n",
    "        \n",
    "        {\"role\": \"user\",\n",
    "        \"content\": f\"{response_answer}\"}\n",
    "        ]\n",
    "\n",
    "answer = client.chat.completions.create(\n",
    "    model = model,\n",
    "    messages = message\n",
    ").model_dump()\n",
    "\n",
    "# print(answer[\"choices\"][0][\"message\"][\"content\"])\n",
    "task_manager.submitAnswer(token, answer[\"choices\"][0][\"message\"][\"content\"])"
   ]
  }
 ],
 "metadata": {
  "kernelspec": {
   "display_name": "base",
   "language": "python",
   "name": "python3"
  },
  "language_info": {
   "codemirror_mode": {
    "name": "ipython",
    "version": 3
   },
   "file_extension": ".py",
   "mimetype": "text/x-python",
   "name": "python",
   "nbconvert_exporter": "python",
   "pygments_lexer": "ipython3",
   "version": "3.9.16"
  }
 },
 "nbformat": 4,
 "nbformat_minor": 2
}
