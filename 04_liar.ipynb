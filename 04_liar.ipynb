{
 "cells": [
  {
   "cell_type": "code",
   "execution_count": 8,
   "metadata": {},
   "outputs": [],
   "source": [
    "from task_manager import TaskManager\n",
    "import json\n",
    "from openai import OpenAI\n",
    "# Tworzymy instancję TaskManager\n",
    "task_manager = TaskManager()"
   ]
  },
  {
   "cell_type": "code",
   "execution_count": 9,
   "metadata": {},
   "outputs": [
    {
     "name": "stderr",
     "output_type": "stream",
     "text": [
      "2024-03-24 14:22:56,768 - INFO - Preparing POST request to https://tasks.aidevs.pl/token/liar\n",
      "2024-03-24 14:22:56,768 - INFO - Headers: {}\n",
      "2024-03-24 14:22:56,768 - INFO - Params: {}\n",
      "2024-03-24 14:22:56,768 - INFO - JSON: {'apikey': '82193ce9-90ec-4b45-862a-bb9d71fff2ba'}\n",
      "2024-03-24 14:22:59,542 - INFO - Received response from https://tasks.aidevs.pl/token/liar\n",
      "2024-03-24 14:22:59,542 - INFO - Status Code: 200\n",
      "2024-03-24 14:22:59,542 - INFO - Headers: {'Date': 'Sun, 24 Mar 2024 13:22:59 GMT', 'Content-Type': 'application/json', 'Transfer-Encoding': 'chunked', 'Connection': 'keep-alive', 'Access-control-Allow-Origin': '*', 'Access-Control-Allow-Methods': '*', 'Access-Control-Request-Headers': '*', 'Access-Control-Allow-Headers': '*', 'CF-Cache-Status': 'DYNAMIC', 'Report-To': '{\"endpoints\":[{\"url\":\"https:\\\\/\\\\/a.nel.cloudflare.com\\\\/report\\\\/v4?s=H9fKuOSrTnhq4PmWThG8qScK0h2C%2FtphFcD4s%2BEbNehRuViaA65IH9QDE%2F6T7j7Vc3pVbPQrHdPp8r8Gz51c2%2F3ae1W5SxFTwWPUapu1rwQlKSAP6Bl9p0W15inzo2FQ9Rc%3D\"}],\"group\":\"cf-nel\",\"max_age\":604800}', 'NEL': '{\"success_fraction\":0,\"report_to\":\"cf-nel\",\"max_age\":604800}', 'Server': 'cloudflare', 'CF-RAY': '8696f9211fab9704-AMS', 'Content-Encoding': 'br', 'alt-svc': 'h3=\":443\"; ma=86400'}\n",
      "2024-03-24 14:22:59,542 - INFO - Body: {\n",
      "    \"code\": 0,\n",
      "    \"msg\": \"OK\",\n",
      "    \"token\": \"320b9b9542a35db34c5b638fe68d6f9ca4de5f9a\"\n",
      "}\n",
      "2024-03-24 14:22:59,542 - INFO - Preparing GET request to https://tasks.aidevs.pl/task/320b9b9542a35db34c5b638fe68d6f9ca4de5f9a\n",
      "2024-03-24 14:22:59,542 - INFO - Headers: {}\n",
      "2024-03-24 14:22:59,542 - INFO - Params: {}\n",
      "2024-03-24 14:23:02,741 - INFO - Received response from https://tasks.aidevs.pl/task/320b9b9542a35db34c5b638fe68d6f9ca4de5f9a\n",
      "2024-03-24 14:23:02,741 - INFO - Status Code: 200\n",
      "2024-03-24 14:23:02,741 - INFO - Headers: {'Date': 'Sun, 24 Mar 2024 13:23:01 GMT', 'Content-Type': 'application/json', 'Transfer-Encoding': 'chunked', 'Connection': 'keep-alive', 'Access-control-allow-origin': '*', 'Access-Control-Allow-Methods': '*', 'Access-Control-Request-Headers': '*', 'Access-Control-Allow-Headers': '*', 'CF-Cache-Status': 'DYNAMIC', 'Report-To': '{\"endpoints\":[{\"url\":\"https:\\\\/\\\\/a.nel.cloudflare.com\\\\/report\\\\/v4?s=APsNkXyuCXq4JMt75GekvvVFLiqpGxrVBnE%2FmdNCn%2F%2BeqA38wxAGIDRi3ucSBlkyhIHzzM06RptlQSA7By7EK2AFuGoC0uZkCKxBWe0NfoZqoYhU%2BdexU0y85JqWpC7h10I%3D\"}],\"group\":\"cf-nel\",\"max_age\":604800}', 'NEL': '{\"success_fraction\":0,\"report_to\":\"cf-nel\",\"max_age\":604800}', 'Server': 'cloudflare', 'CF-RAY': '8696f9308ceb9704-AMS', 'Content-Encoding': 'br', 'alt-svc': 'h3=\":443\"; ma=86400'}\n",
      "2024-03-24 14:23:02,741 - INFO - Body: {\n",
      "    \"code\": 0,\n",
      "    \"msg\": \"send me any question in english, and I will try to answer it in max 150 tokens\",\n",
      "    \"hint1\": \"please send your question in 'question' field to \\/task\\/ endpoint (simple form, not JSON)\",\n",
      "    \"hint2\": \"sometimes I don't tell the truth\",\n",
      "    \"hint3\": \"Send to \\/answer\\/ info if I'm telling the truth. Just value: YES\\/NO\"\n",
      "}\n"
     ]
    }
   ],
   "source": [
    "taskName = \"liar\"\n",
    "\n",
    "# pobranie tokena\n",
    "token = task_manager.getToken(taskName)\n",
    "\n",
    "# pobranie podpowiedzi\n",
    "# task_manager.getHint(taskName)\n",
    "\n",
    "task = task_manager.getTask(token)"
   ]
  },
  {
   "cell_type": "code",
   "execution_count": 10,
   "metadata": {},
   "outputs": [
    {
     "name": "stderr",
     "output_type": "stream",
     "text": [
      "2024-03-24 14:23:03,458 - INFO - Preparing POST request to https://tasks.aidevs.pl/task/320b9b9542a35db34c5b638fe68d6f9ca4de5f9a\n",
      "2024-03-24 14:23:03,458 - INFO - Headers: {}\n",
      "2024-03-24 14:23:03,458 - INFO - Params: {}\n",
      "2024-03-24 14:23:03,458 - INFO - Data: {'question': 'What is love?'}\n",
      "2024-03-24 14:23:05,792 - INFO - Received response from https://tasks.aidevs.pl/task/320b9b9542a35db34c5b638fe68d6f9ca4de5f9a\n",
      "2024-03-24 14:23:05,792 - INFO - Status Code: 200\n",
      "2024-03-24 14:23:05,792 - INFO - Headers: {'Date': 'Sun, 24 Mar 2024 13:23:05 GMT', 'Content-Type': 'application/json', 'Transfer-Encoding': 'chunked', 'Connection': 'keep-alive', 'Access-control-allow-origin': '*', 'Access-Control-Allow-Methods': '*', 'Access-Control-Request-Headers': '*', 'Access-Control-Allow-Headers': '*', 'CF-Cache-Status': 'DYNAMIC', 'Report-To': '{\"endpoints\":[{\"url\":\"https:\\\\/\\\\/a.nel.cloudflare.com\\\\/report\\\\/v4?s=GCc9s%2BZrIB%2F0sak2s05QcNB%2BKyDlDbk3gHIy9Kfmf1yfjUmPngNQ4vmRzZ2Sb2kCNOAn4EWDtbp%2BDFlKFw9feygcfxDFHwt3c1Lr4fUbNumG6JjB%2F8T8Ho8UjPbHWV0fhG4%3D\"}],\"group\":\"cf-nel\",\"max_age\":604800}', 'NEL': '{\"success_fraction\":0,\"report_to\":\"cf-nel\",\"max_age\":604800}', 'Server': 'cloudflare', 'CF-RAY': '8696f948bd949704-AMS', 'Content-Encoding': 'br', 'alt-svc': 'h3=\":443\"; ma=86400'}\n",
      "2024-03-24 14:23:05,807 - INFO - Body: {\n",
      "    \"code\": 0,\n",
      "    \"msg\": \"This is my answer\",\n",
      "    \"answer\": \"Steven Spielberg, who directed the film, came up with the idea for the vibrating water glass while listening to Earth, Wind & Fire in his car.\"\n",
      "}\n"
     ]
    }
   ],
   "source": [
    "client = OpenAI()\n",
    "\n",
    "question = \"What is love?\"\n",
    "response = task_manager.sendData(token, {\"question\": question})"
   ]
  },
  {
   "cell_type": "code",
   "execution_count": 11,
   "metadata": {},
   "outputs": [
    {
     "name": "stderr",
     "output_type": "stream",
     "text": [
      "2024-03-24 14:23:08,075 - INFO - HTTP Request: POST https://api.openai.com/v1/chat/completions \"HTTP/1.1 200 OK\"\n",
      "2024-03-24 14:23:08,075 - INFO - Preparing POST request to https://tasks.aidevs.pl/answer/320b9b9542a35db34c5b638fe68d6f9ca4de5f9a\n",
      "2024-03-24 14:23:08,075 - INFO - Headers: {}\n",
      "2024-03-24 14:23:08,075 - INFO - Params: {}\n",
      "2024-03-24 14:23:08,075 - INFO - JSON: {'answer': 'NO'}\n",
      "2024-03-24 14:23:09,915 - INFO - Received response from https://tasks.aidevs.pl/answer/320b9b9542a35db34c5b638fe68d6f9ca4de5f9a\n",
      "2024-03-24 14:23:09,915 - INFO - Status Code: 200\n",
      "2024-03-24 14:23:09,915 - INFO - Headers: {'Date': 'Sun, 24 Mar 2024 13:23:09 GMT', 'Content-Type': 'application/json', 'Transfer-Encoding': 'chunked', 'Connection': 'keep-alive', 'Access-control-allow-origin': '*', 'Access-Control-Allow-Methods': '*', 'Access-Control-Request-Headers': '*', 'Access-Control-Allow-Headers': '*', 'CF-Cache-Status': 'DYNAMIC', 'Report-To': '{\"endpoints\":[{\"url\":\"https:\\\\/\\\\/a.nel.cloudflare.com\\\\/report\\\\/v4?s=nDARzNe0rCdoUGgM7fp0Z24cVNpPZqYS8L5rZ3iwZfWOWXPNAb%2BZ3RIadL99lkKnH27o6LGcu0%2B3aG5%2B6RPlElsSFvrB7uw96RXT7mVLgIYsfQN5eFTQhcqaDibtQML9sXA%3D\"}],\"group\":\"cf-nel\",\"max_age\":604800}', 'NEL': '{\"success_fraction\":0,\"report_to\":\"cf-nel\",\"max_age\":604800}', 'Server': 'cloudflare', 'CF-RAY': '8696f9627a449704-AMS', 'Content-Encoding': 'br', 'alt-svc': 'h3=\":443\"; ma=86400'}\n",
      "2024-03-24 14:23:09,930 - INFO - Body: {\n",
      "    \"code\": 0,\n",
      "    \"msg\": \"OK\",\n",
      "    \"note\": \"CORRECT\"\n",
      "}\n"
     ]
    },
    {
     "data": {
      "text/plain": [
       "True"
      ]
     },
     "execution_count": 11,
     "metadata": {},
     "output_type": "execute_result"
    }
   ],
   "source": [
    "response_answer = response[\"answer\"]\n",
    "model = \"gpt-3.5-turbo\"\n",
    "message = [\n",
    "        {\"role\": \"system\",\n",
    "        \"content\": f\"\"\"You are working as a censor system. \n",
    "                    Please check if this sentence is answer to question:\n",
    "                    {question}\n",
    "                    ### Answer only YES or NO.\"\"\"},\n",
    "        \n",
    "        {\"role\": \"user\",\n",
    "        \"content\": f\"{response_answer}\"}\n",
    "        ]\n",
    "\n",
    "answer = client.chat.completions.create(\n",
    "    model = model,\n",
    "    messages = message\n",
    ").model_dump()\n",
    "\n",
    "# print(answer[\"choices\"][0][\"message\"][\"content\"])\n",
    "task_manager.submitAnswer(token, answer[\"choices\"][0][\"message\"][\"content\"])"
   ]
  }
 ],
 "metadata": {
  "kernelspec": {
   "display_name": "base",
   "language": "python",
   "name": "python3"
  },
  "language_info": {
   "codemirror_mode": {
    "name": "ipython",
    "version": 3
   },
   "file_extension": ".py",
   "mimetype": "text/x-python",
   "name": "python",
   "nbconvert_exporter": "python",
   "pygments_lexer": "ipython3",
   "version": "3.9.16"
  }
 },
 "nbformat": 4,
 "nbformat_minor": 2
}
