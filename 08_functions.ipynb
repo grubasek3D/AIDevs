{
 "cells": [
  {
   "cell_type": "code",
   "execution_count": 1,
   "metadata": {},
   "outputs": [],
   "source": [
    "from task_manager import TaskManager\n",
    "import json\n",
    "from openai import OpenAI\n",
    "# Tworzymy instancję TaskManager\n",
    "task_manager = TaskManager()"
   ]
  },
  {
   "cell_type": "code",
   "execution_count": 2,
   "metadata": {},
   "outputs": [
    {
     "name": "stderr",
     "output_type": "stream",
     "text": [
      "2024-03-29 15:36:36,730 - INFO - Preparing POST request to https://tasks.aidevs.pl/token/functions\n",
      "2024-03-29 15:36:36,732 - INFO - Headers: {}\n",
      "2024-03-29 15:36:36,732 - INFO - Params: {}\n",
      "2024-03-29 15:36:36,732 - INFO - JSON: {'apikey': '82193ce9-90ec-4b45-862a-bb9d71fff2ba'}\n",
      "2024-03-29 15:36:37,499 - INFO - Received response from https://tasks.aidevs.pl/token/functions\n",
      "2024-03-29 15:36:37,499 - INFO - Status Code: 200\n",
      "2024-03-29 15:36:37,500 - INFO - Headers: {'Date': 'Fri, 29 Mar 2024 14:36:37 GMT', 'Content-Type': 'application/json', 'Transfer-Encoding': 'chunked', 'Connection': 'keep-alive', 'Access-control-Allow-Origin': '*', 'Access-Control-Allow-Methods': '*', 'Access-Control-Request-Headers': '*', 'Access-Control-Allow-Headers': '*', 'CF-Cache-Status': 'DYNAMIC', 'Report-To': '{\"endpoints\":[{\"url\":\"https:\\\\/\\\\/a.nel.cloudflare.com\\\\/report\\\\/v4?s=VoWgssipcMeg2tyMyMzkZPp1Rwjg8XuGtWBJHfOmyGFgQCfwUuwdDETAll0uDLEMW9Msadn7YJt3ExFixTKBTDjU56wso4Ze58V%2FleSSnrOOhG3rVnqQAKtgsciUhW9NPw4%3D\"}],\"group\":\"cf-nel\",\"max_age\":604800}', 'NEL': '{\"success_fraction\":0,\"report_to\":\"cf-nel\",\"max_age\":604800}', 'Server': 'cloudflare', 'CF-RAY': '86c097ddae10b3a7-MUC', 'Content-Encoding': 'br', 'alt-svc': 'h3=\":443\"; ma=86400'}\n",
      "2024-03-29 15:36:37,501 - INFO - Body: {\n",
      "    \"code\": 0,\n",
      "    \"msg\": \"OK\",\n",
      "    \"token\": \"6e4ae05ad067c7d67874e4b67c894ad79157fdd2\"\n",
      "}\n",
      "2024-03-29 15:36:37,503 - INFO - Preparing GET request to https://tasks.aidevs.pl/hint/functions\n",
      "2024-03-29 15:36:37,503 - INFO - Headers: {}\n",
      "2024-03-29 15:36:37,503 - INFO - Params: {}\n",
      "2024-03-29 15:36:38,182 - INFO - Received response from https://tasks.aidevs.pl/hint/functions\n",
      "2024-03-29 15:36:38,182 - INFO - Status Code: 200\n",
      "2024-03-29 15:36:38,182 - INFO - Headers: {'Date': 'Fri, 29 Mar 2024 14:36:38 GMT', 'Content-Length': '421', 'Connection': 'keep-alive', 'Last-Modified': 'Thu, 02 Nov 2023 14:44:12 GMT', 'ETag': '\"1a5-6092c6bd9c4cf\"', 'Accept-Ranges': 'bytes', 'CF-Cache-Status': 'DYNAMIC', 'Report-To': '{\"endpoints\":[{\"url\":\"https:\\\\/\\\\/a.nel.cloudflare.com\\\\/report\\\\/v4?s=B%2FngDUP00%2B%2FgQnjAdxlfIDmMae0H2ThlJNPLx%2BsX9H%2F0b6zMlqV6RrIUgbbusU5CUH9vuTLte68D5ZdWE5sWDD%2FQizs37epBndsDqPp64i8M7be73f6e0I5I%2FmM8rBzgYbI%3D\"}],\"group\":\"cf-nel\",\"max_age\":604800}', 'NEL': '{\"success_fraction\":0,\"report_to\":\"cf-nel\",\"max_age\":604800}', 'Server': 'cloudflare', 'CF-RAY': '86c097e239c0b3a7-MUC', 'alt-svc': 'h3=\":443\"; ma=86400'}\n",
      "2024-03-29 15:36:38,196 - INFO - Body: {\"answer\": {\n",
      "            \"name\": \"orderPizza\",\n",
      "            \"description\": \"select pizza in pizzeria based on pizza name\",\n",
      "            \"parameters\": {\n",
      "                \"type\": \"object\",\n",
      "                \"properties\": {\n",
      "                    \"name\": {\n",
      "                        \"type\": \"string\",\n",
      "                        \"description\": \"provide name of the pizza\"\n",
      "                    }\n",
      "                }\n",
      "            }\n",
      "        }\n",
      "}\n",
      "\n",
      "2024-03-29 15:36:38,199 - INFO - Preparing GET request to https://tasks.aidevs.pl/task/6e4ae05ad067c7d67874e4b67c894ad79157fdd2\n",
      "2024-03-29 15:36:38,199 - INFO - Headers: {}\n",
      "2024-03-29 15:36:38,199 - INFO - Params: {}\n",
      "2024-03-29 15:36:38,881 - INFO - Received response from https://tasks.aidevs.pl/task/6e4ae05ad067c7d67874e4b67c894ad79157fdd2\n",
      "2024-03-29 15:36:38,881 - INFO - Status Code: 200\n",
      "2024-03-29 15:36:38,881 - INFO - Headers: {'Date': 'Fri, 29 Mar 2024 14:36:38 GMT', 'Content-Type': 'application/json', 'Transfer-Encoding': 'chunked', 'Connection': 'keep-alive', 'Access-control-allow-origin': '*', 'Access-Control-Allow-Methods': '*', 'Access-Control-Request-Headers': '*', 'Access-Control-Allow-Headers': '*', 'CF-Cache-Status': 'DYNAMIC', 'Report-To': '{\"endpoints\":[{\"url\":\"https:\\\\/\\\\/a.nel.cloudflare.com\\\\/report\\\\/v4?s=Rm1QZAmvG6dVUuzq733A2yId4J9EDNn0QIvLe%2B9htlcSXY44%2BVh%2B%2FVPBqpdTJiEozChbvBzku94FvzAAWTkPbdQFlPhTG%2FN7DHIfvAGlIMEA2J9YabFZQUSsStErsIzlJaw%3D\"}],\"group\":\"cf-nel\",\"max_age\":604800}', 'NEL': '{\"success_fraction\":0,\"report_to\":\"cf-nel\",\"max_age\":604800}', 'Server': 'cloudflare', 'CF-RAY': '86c097e68d86b3a7-MUC', 'Content-Encoding': 'br', 'alt-svc': 'h3=\":443\"; ma=86400'}\n",
      "2024-03-29 15:36:38,881 - INFO - Body: {\n",
      "    \"code\": 0,\n",
      "    \"msg\": \"send me definition of function named addUser that require 3 params: name (string), surname (string) and year of born in field named \\\"year\\\" (integer). Set type of function to \\\"object\\\"\",\n",
      "    \"hint1\": \"send this definition as correct JSON structure inside 'answer' field (as usual)\"\n",
      "}\n"
     ]
    }
   ],
   "source": [
    "taskName = \"functions\"\n",
    "\n",
    "# pobranie tokena\n",
    "token = task_manager.getToken(taskName)\n",
    "\n",
    "# pobranie podpowiedzi\n",
    "task_manager.getHint(taskName)\n",
    "\n",
    "task = task_manager.getTask(token)"
   ]
  },
  {
   "cell_type": "code",
   "execution_count": 3,
   "metadata": {},
   "outputs": [],
   "source": [
    "answer = {\n",
    "    \"name\": \"addUser\",\n",
    "    \"description\": \"addUser\",\n",
    "    \"parameters\": {\n",
    "        \"type\": \"object\",\n",
    "        \"properties\": {\n",
    "            \"name\": {\n",
    "                \"type\": \"string\",\n",
    "                \"description\": \"Name of user\"\n",
    "            },\n",
    "            \"surname\": {\n",
    "                \"type\": \"string\",\n",
    "                \"description\": \"Name of user\"\n",
    "            },\n",
    "            \"year\": {\n",
    "                \"type\": \"integer\",\n",
    "                \"description\": \"Name of user\"\n",
    "            }\n",
    "        }\n",
    "    }\n",
    "}"
   ]
  },
  {
   "cell_type": "code",
   "execution_count": 4,
   "metadata": {},
   "outputs": [
    {
     "name": "stderr",
     "output_type": "stream",
     "text": [
      "2024-03-29 15:36:54,205 - INFO - Preparing POST request to https://tasks.aidevs.pl/answer/6e4ae05ad067c7d67874e4b67c894ad79157fdd2\n",
      "2024-03-29 15:36:54,206 - INFO - Headers: {}\n",
      "2024-03-29 15:36:54,207 - INFO - Params: {}\n",
      "2024-03-29 15:36:54,208 - INFO - JSON: {'answer': {'name': 'addUser', 'description': 'addUser', 'parameters': {'type': 'object', 'properties': {'name': {'type': 'string', 'description': 'Name of user'}, 'surname': {'type': 'string', 'description': 'Name of user'}, 'year': {'type': 'integer', 'description': 'Name of user'}}}}}\n",
      "2024-03-29 15:36:55,888 - INFO - Received response from https://tasks.aidevs.pl/answer/6e4ae05ad067c7d67874e4b67c894ad79157fdd2\n",
      "2024-03-29 15:36:55,888 - INFO - Status Code: 200\n",
      "2024-03-29 15:36:55,893 - INFO - Headers: {'Date': 'Fri, 29 Mar 2024 14:36:55 GMT', 'Content-Type': 'application/json', 'Transfer-Encoding': 'chunked', 'Connection': 'keep-alive', 'Access-control-allow-origin': '*', 'Access-Control-Allow-Methods': '*', 'Access-Control-Request-Headers': '*', 'Access-Control-Allow-Headers': '*', 'CF-Cache-Status': 'DYNAMIC', 'Report-To': '{\"endpoints\":[{\"url\":\"https:\\\\/\\\\/a.nel.cloudflare.com\\\\/report\\\\/v4?s=kMOkuz1KGRbbtHU%2B2XF8oWD6iClzvwb0gD88scYHKF9eEZki9MGcYwYDS1TP0qr8nvCbvZJ0op3xZ9itl5WhKpdEXlvYy%2FYjp8VgELEKNaz56eS66D1%2F3jXDZ4rfgw4Favg%3D\"}],\"group\":\"cf-nel\",\"max_age\":604800}', 'NEL': '{\"success_fraction\":0,\"report_to\":\"cf-nel\",\"max_age\":604800}', 'Server': 'cloudflare', 'CF-RAY': '86c0984ab8a4b3a7-MUC', 'Content-Encoding': 'br', 'alt-svc': 'h3=\":443\"; ma=86400'}\n",
      "2024-03-29 15:36:55,893 - INFO - Body: {\n",
      "    \"code\": 0,\n",
      "    \"msg\": \"OK\",\n",
      "    \"note\": \"CORRECT\"\n",
      "}\n"
     ]
    },
    {
     "data": {
      "text/plain": [
       "True"
      ]
     },
     "execution_count": 4,
     "metadata": {},
     "output_type": "execute_result"
    }
   ],
   "source": [
    "task_manager.submitAnswer(token, answer)"
   ]
  }
 ],
 "metadata": {
  "kernelspec": {
   "display_name": "base",
   "language": "python",
   "name": "python3"
  },
  "language_info": {
   "codemirror_mode": {
    "name": "ipython",
    "version": 3
   },
   "file_extension": ".py",
   "mimetype": "text/x-python",
   "name": "python",
   "nbconvert_exporter": "python",
   "pygments_lexer": "ipython3",
   "version": "3.9.16"
  }
 },
 "nbformat": 4,
 "nbformat_minor": 2
}
