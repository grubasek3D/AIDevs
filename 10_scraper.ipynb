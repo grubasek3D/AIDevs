{
 "cells": [
  {
   "cell_type": "code",
   "execution_count": 2,
   "metadata": {},
   "outputs": [],
   "source": [
    "from task_manager import TaskManager\n",
    "import json\n",
    "from openai import OpenAI\n",
    "from time import sleep\n",
    "# Tworzymy instancję TaskManager\n",
    "task_manager = TaskManager()"
   ]
  },
  {
   "cell_type": "code",
   "execution_count": 3,
   "metadata": {},
   "outputs": [
    {
     "name": "stderr",
     "output_type": "stream",
     "text": [
      "2024-04-02 22:45:11,869 - INFO - Preparing POST request to https://tasks.aidevs.pl/token/scraper\n",
      "2024-04-02 22:45:11,887 - INFO - Headers: {}\n",
      "2024-04-02 22:45:11,895 - INFO - Params: {}\n",
      "2024-04-02 22:45:11,899 - INFO - JSON: {'apikey': '82193ce9-90ec-4b45-862a-bb9d71fff2ba'}\n",
      "2024-04-02 22:45:12,249 - INFO - Received response from https://tasks.aidevs.pl/token/scraper\n",
      "2024-04-02 22:45:12,251 - INFO - Status Code: 200\n",
      "2024-04-02 22:45:12,253 - INFO - Headers: {'Date': 'Tue, 02 Apr 2024 20:45:12 GMT', 'Content-Type': 'application/json', 'Transfer-Encoding': 'chunked', 'Connection': 'keep-alive', 'Access-control-Allow-Origin': '*', 'Access-Control-Allow-Methods': '*', 'Access-Control-Request-Headers': '*', 'Access-Control-Allow-Headers': '*', 'CF-Cache-Status': 'DYNAMIC', 'Report-To': '{\"endpoints\":[{\"url\":\"https:\\\\/\\\\/a.nel.cloudflare.com\\\\/report\\\\/v4?s=vko%2BDtX33fC3Ia83%2FU9%2FPy5abFb6c6uqcAkDRmYmcC1Mk6SiOdmip6R93VADRZi9PuvgTWIwhmbvItXasiJTbEDONL%2BA97XoKtVanZ2%2BlcChwkFaBCsjlJJBMhd7bLpQACU%3D\"}],\"group\":\"cf-nel\",\"max_age\":604800}', 'NEL': '{\"success_fraction\":0,\"report_to\":\"cf-nel\",\"max_age\":604800}', 'Server': 'cloudflare', 'CF-RAY': '86e3a946fdea7284-HAM', 'Content-Encoding': 'gzip', 'alt-svc': 'h3=\":443\"; ma=86400'}\n",
      "2024-04-02 22:45:12,254 - INFO - Body: {\n",
      "    \"code\": 0,\n",
      "    \"msg\": \"OK\",\n",
      "    \"token\": \"bfd5bc090a61d419cfe170e05249b9e6a5f00211\"\n",
      "}\n",
      "2024-04-02 22:45:12,255 - INFO - Preparing GET request to https://tasks.aidevs.pl/task/bfd5bc090a61d419cfe170e05249b9e6a5f00211\n",
      "2024-04-02 22:45:12,256 - INFO - Headers: {}\n",
      "2024-04-02 22:45:12,257 - INFO - Params: {}\n",
      "2024-04-02 22:45:12,477 - INFO - Received response from https://tasks.aidevs.pl/task/bfd5bc090a61d419cfe170e05249b9e6a5f00211\n",
      "2024-04-02 22:45:12,479 - INFO - Status Code: 200\n",
      "2024-04-02 22:45:12,486 - INFO - Headers: {'Date': 'Tue, 02 Apr 2024 20:45:12 GMT', 'Content-Type': 'application/json', 'Transfer-Encoding': 'chunked', 'Connection': 'keep-alive', 'Access-control-allow-origin': '*', 'Access-Control-Allow-Methods': '*', 'Access-Control-Request-Headers': '*', 'Access-Control-Allow-Headers': '*', 'CF-Cache-Status': 'DYNAMIC', 'Report-To': '{\"endpoints\":[{\"url\":\"https:\\\\/\\\\/a.nel.cloudflare.com\\\\/report\\\\/v4?s=3sXAtrZTO5U6MTDn5IjLyTMSgFNutKke1sLmdNAR6fEFn%2B9DbUzr%2Bk2tlA1OFaBrP9Ei0%2FnFLurNoBWoPkW5v16Oouq1XN6tR7Htz1GrBL1105ZKGb6rdf0O3%2BfBiPyBEmE%3D\"}],\"group\":\"cf-nel\",\"max_age\":604800}', 'NEL': '{\"success_fraction\":0,\"report_to\":\"cf-nel\",\"max_age\":604800}', 'Server': 'cloudflare', 'CF-RAY': '86e3a948ab63ca8d-HAM', 'Content-Encoding': 'gzip', 'alt-svc': 'h3=\":443\"; ma=86400'}\n",
      "2024-04-02 22:45:12,488 - INFO - Body: {\n",
      "    \"code\": 0,\n",
      "    \"msg\": \"Return answer for the question in POLISH language, based on provided article. Maximum length for the answer is 200 characters\",\n",
      "    \"input\": \"https:\\/\\/tasks.aidevs.pl\\/text_pasta_history.txt\",\n",
      "    \"question\": \"co by\\u0142o przodkiem dzisiejszego lasagne?\"\n",
      "}\n"
     ]
    }
   ],
   "source": [
    "taskName = \"scraper\"\n",
    "\n",
    "# pobranie tokena\n",
    "token = task_manager.getToken(taskName)\n",
    "\n",
    "# pobranie podpowiedzi\n",
    "# task_manager.getHint(taskName)\n",
    "\n",
    "task = task_manager.getTask(token)"
   ]
  },
  {
   "cell_type": "code",
   "execution_count": 4,
   "metadata": {},
   "outputs": [
    {
     "name": "stderr",
     "output_type": "stream",
     "text": [
      "2024-04-02 22:45:15,249 - INFO - Preparing GET request to https://tasks.aidevs.pl/text_pasta_history.txt\n",
      "2024-04-02 22:45:15,259 - INFO - Headers: {'User-Agent': 'Mozilla/5.0 (Windows NT 10.0; Win64; x64) AppleWebKit/537.36 (KHTML, like Gecko) Chrome/122.0.0.0 Safari/537.36 Edg/122.0.0.0'}\n",
      "2024-04-02 22:45:15,263 - INFO - Params: {}\n"
     ]
    },
    {
     "name": "stdout",
     "output_type": "stream",
     "text": [
      "https://tasks.aidevs.pl/text_pasta_history.txt\n",
      "text_pasta_history.txt\n"
     ]
    },
    {
     "name": "stderr",
     "output_type": "stream",
     "text": [
      "2024-04-02 22:45:42,368 - INFO - Received response from https://tasks.aidevs.pl/text_pasta_history.txt\n",
      "2024-04-02 22:45:42,369 - INFO - Status Code: 200\n",
      "2024-04-02 22:45:42,371 - INFO - Headers: {'Date': 'Tue, 02 Apr 2024 20:45:16 GMT', 'Content-Type': 'text/plain;charset=UTF-8', 'Transfer-Encoding': 'chunked', 'Connection': 'keep-alive', 'Access-control-allow-origin': '*', 'Access-Control-Allow-Methods': '*', 'Access-Control-Request-Headers': '*', 'Cache-Control': 'no-cache, no-store, must-revalidate', 'Expires': '1970-01-01 00:00:00', 'Vary': 'Accept-Encoding', 'Content-Encoding': 'gzip', 'CF-Cache-Status': 'DYNAMIC', 'Report-To': '{\"endpoints\":[{\"url\":\"https:\\\\/\\\\/a.nel.cloudflare.com\\\\/report\\\\/v4?s=27dFsREAMuIyre55LFGp7W4CjYzoMeorCQA5Nejvpg1X0ev3AZWMfREUK8TLBa7m4Csq%2BGqndyYvcztCbfLsN%2FjS9Mtr0P3nUHnK0h3mlVtrqn9vw%2FxWp5pKcWUj0CXQ0pE%3D\"}],\"group\":\"cf-nel\",\"max_age\":604800}', 'NEL': '{\"success_fraction\":0,\"report_to\":\"cf-nel\",\"max_age\":604800}', 'Server': 'cloudflare', 'CF-RAY': '86e3a9602ded62ba-HAM', 'alt-svc': 'h3=\":443\"; ma=86400'}\n",
      "2024-04-02 22:45:42,374 - INFO - Body: The first concrete information on pasta products in Italy dates to the 13th or 14th centuries.\n",
      "In the 1st century AD writings of Horace, lagana (singular: laganum) were fine sheets of fried dough and were an everyday foodstuff. Writing in the 2nd century, Athenaeus of Naucratis provides a recipe for lagana which he attributes to the 1st century Chrysippus of Tyana: sheets of dough made of wheat flour and the juice of crushed lettuce, then flavoured with spices and deep-fried in oil. An early 5th century cookbook describes a dish called lagana that consisted of layers of dough with meat stuffing, an ancestor of modern-day lasagna. However, the method of cooking these sheets of dough does not correspond to the modern definition of either a fresh or dry pasta product, which only had similar basic ingredients and perhaps the shape. The first concrete information concerning pasta products in Italy dates from the 13th or 14th century.Historians have noted several lexical milestones relevant to pasta, none of which changes these basic characteristics. For example, the works of the 2nd century AD Greek physician Galen mention itrion, homogeneous compounds made of flour and water. The Jerusalem Talmud records that itrium, a kind of boiled dough, was common in Palestine from the 3rd to 5th centuries AD. A dictionary compiled by the 9th century Arab physician and lexicographer Isho bar Ali defines itriyya, the Arabic cognate, as string-like shapes made of semolina and dried before cooking. The geographical text of Muhammad al-Idrisi, compiled for the Norman King of Sicily Roger II in 1154 mentions itriyya manufactured and exported from Norman Sicily:\n",
      "\n",
      "West of Termini there is a delightful settlement called Trabia [along the Sicilian coast east of Palermo]. Its ever-flowing streams propel a number of mills. Here there are huge buildings in the countryside where they make vast quantities of itriyya which is exported everywhere: to Calabria, to Muslim and Christian countries. Very many shiploads are sent.\n",
      "One form of itriyya with a long history is lagana, which in Latin refers to thin sheets of dough, and gave rise to the Italian lasagna.\n",
      "\n",
      "In North Africa, a food similar to pasta, known as couscous, has been eaten for centuries. However, it lacks the distinguishing malleable nature of pasta, couscous being more akin to droplets of dough. At first, dry pasta was a luxury item in Italy because of high labor costs; durum wheat semolina had to be kneaded for a long time.\n",
      "There is a legend of Marco Polo importing pasta from China which originated with the Macaroni Journal, published by an association of food industries with the goal of promoting pasta in the United States. Rustichello da Pisa writes in his Travels that Marco Polo described a food similar to \"lagana\". Jeffrey Steingarten asserts that Arabs introduced pasta in the Emirate of Sicily in the ninth century, mentioning also that traces of pasta have been found in ancient Greece and that Jane Grigson believed the Marco Polo story to have originated in the 1920s or 1930s in an advertisement for a Canadian spaghetti company.Food historians estimate that the dish probably took hold in Italy as a result of extensive Mediterranean trading in the Middle Ages. From the 13th century, references to pasta dishes—macaroni, ravioli, gnocchi, vermicelli—crop up with increasing frequency across the Italian peninsula. In the 14th-century writer Boccaccio's collection of earthy tales, The Decameron, he recounts a mouthwatering fantasy concerning a mountain of Parmesan cheese down which pasta chefs roll macaroni and ravioli to gluttons waiting below.In the 14th and 15th centuries, dried pasta became popular for its easy storage. This allowed people to store pasta on ships when exploring the New World. A century later, pasta was present around the globe during the voyages of discovery.Although tomatoes were introduced to Italy in the 16th century and incorporated in Italian cuisine in the 17th century, description of the first Italian tomato sauces dates from the late 18th century: the first written record of pasta with tomato sauce can be found in the 1790 cookbook L'Apicio Moderno by Roman chef Francesco Leonardi. Before tomato sauce was introduced, pasta was eaten dry with the fingers; the liquid sauce demanded the use of a fork.\n"
     ]
    },
    {
     "name": "stdout",
     "output_type": "stream",
     "text": [
      "<Response [200]>\n"
     ]
    }
   ],
   "source": [
    "link = task[\"input\"]\n",
    "filename = link.split(\"/\")[-1]\n",
    "# response = task_manager.sendData(token, {\"question\": question})\n",
    "print(link)\n",
    "print(filename)\n",
    "\n",
    "task_manager.downloadFile(link, filename)\n",
    "with open(filename) as f:\n",
    "    context = f.read()"
   ]
  },
  {
   "cell_type": "code",
   "execution_count": 5,
   "metadata": {},
   "outputs": [
    {
     "name": "stdout",
     "output_type": "stream",
     "text": [
      "msg: Return answer for the question in POLISH language, based on provided article. Maximum length for the answer is 200 characters\n",
      "question: co było przodkiem dzisiejszego lasagne?\n"
     ]
    },
    {
     "name": "stderr",
     "output_type": "stream",
     "text": [
      "2024-04-02 22:45:51,590 - INFO - HTTP Request: POST https://api.openai.com/v1/chat/completions \"HTTP/1.1 200 OK\"\n",
      "2024-04-02 22:45:51,622 - INFO - Preparing POST request to https://tasks.aidevs.pl/answer/bfd5bc090a61d419cfe170e05249b9e6a5f00211\n",
      "2024-04-02 22:45:51,626 - INFO - Headers: {}\n",
      "2024-04-02 22:45:51,630 - INFO - Params: {}\n",
      "2024-04-02 22:45:51,631 - INFO - JSON: {'answer': 'Przodkiem dzisiejszej lasagni był rodzaj potrawy, zwany lagana, składający się z warstw ciasta z nadzieniem mięsnym.'}\n"
     ]
    },
    {
     "name": "stdout",
     "output_type": "stream",
     "text": [
      "answer: Przodkiem dzisiejszej lasagni był rodzaj potrawy, zwany lagana, składający się z warstw ciasta z nadzieniem mięsnym.\n"
     ]
    },
    {
     "name": "stderr",
     "output_type": "stream",
     "text": [
      "2024-04-02 22:45:51,902 - INFO - Received response from https://tasks.aidevs.pl/answer/bfd5bc090a61d419cfe170e05249b9e6a5f00211\n",
      "2024-04-02 22:45:51,908 - INFO - Status Code: 200\n",
      "2024-04-02 22:45:51,910 - INFO - Headers: {'Date': 'Tue, 02 Apr 2024 20:45:51 GMT', 'Content-Type': 'application/json', 'Transfer-Encoding': 'chunked', 'Connection': 'keep-alive', 'Access-control-allow-origin': '*', 'Access-Control-Allow-Methods': '*', 'Access-Control-Request-Headers': '*', 'Access-Control-Allow-Headers': '*', 'CF-Cache-Status': 'DYNAMIC', 'Report-To': '{\"endpoints\":[{\"url\":\"https:\\\\/\\\\/a.nel.cloudflare.com\\\\/report\\\\/v4?s=W4C4MC%2B54pwB%2BxKuoDljvezHMJjCTy5N8yIj6J2ASlt3VMZdlQGadHdH%2Bh6CvOWTr%2BRajIf7PIf6KXbUBdbisWk6Ez0%2FVwqCZuz%2BHrl2HIGAClrCyPV9aOKbS80xL54OBBk%3D\"}],\"group\":\"cf-nel\",\"max_age\":604800}', 'NEL': '{\"success_fraction\":0,\"report_to\":\"cf-nel\",\"max_age\":604800}', 'Server': 'cloudflare', 'CF-RAY': '86e3aa3ecaae62de-HAM', 'Content-Encoding': 'gzip', 'alt-svc': 'h3=\":443\"; ma=86400'}\n",
      "2024-04-02 22:45:51,910 - INFO - Body: {\n",
      "    \"code\": 0,\n",
      "    \"msg\": \"OK\",\n",
      "    \"note\": \"CORRECT\"\n",
      "}\n"
     ]
    },
    {
     "data": {
      "text/plain": [
       "True"
      ]
     },
     "execution_count": 5,
     "metadata": {},
     "output_type": "execute_result"
    }
   ],
   "source": [
    "client = OpenAI()\n",
    "msg = task[\"msg\"]\n",
    "question = task[\"question\"]\n",
    "print(f\"msg: {msg}\")\n",
    "print(f\"question: {question}\")\n",
    "# response_answer = response[\"answer\"]\n",
    "model = \"gpt-3.5-turbo\"\n",
    "message = [\n",
    "        {\"role\": \"system\",\n",
    "        \"content\": f\"\"\"{msg}\n",
    "                    context###{context}###\"\"\"},\n",
    "        \n",
    "        {\"role\": \"user\",\n",
    "        \"content\": f\"{question}\"}\n",
    "        ]\n",
    "\n",
    "response = client.chat.completions.create(\n",
    "    model = model,\n",
    "    messages = message\n",
    ").model_dump()\n",
    "\n",
    "answer = response[\"choices\"][0][\"message\"][\"content\"]\n",
    "print(f\"answer: {answer}\")\n",
    "task_manager.submitAnswer(token, answer)"
   ]
  },
  {
   "cell_type": "code",
   "execution_count": 10,
   "metadata": {},
   "outputs": [
    {
     "ename": "NameError",
     "evalue": "name 'response' is not defined",
     "output_type": "error",
     "traceback": [
      "\u001b[1;31m---------------------------------------------------------------------------\u001b[0m",
      "\u001b[1;31mNameError\u001b[0m                                 Traceback (most recent call last)",
      "Cell \u001b[1;32mIn[10], line 1\u001b[0m\n\u001b[1;32m----> 1\u001b[0m \u001b[38;5;28mprint\u001b[39m(\u001b[43mresponse\u001b[49m\u001b[38;5;241m.\u001b[39mtext)\n",
      "\u001b[1;31mNameError\u001b[0m: name 'response' is not defined"
     ]
    }
   ],
   "source": [
    "print(response.text)"
   ]
  },
  {
   "cell_type": "code",
   "execution_count": null,
   "metadata": {},
   "outputs": [],
   "source": [
    "answer = response.text\n",
    "# print(len(answer))\n",
    "\n",
    "task_manager.submitAnswer(token, answer)"
   ]
  }
 ],
 "metadata": {
  "kernelspec": {
   "display_name": "base",
   "language": "python",
   "name": "python3"
  },
  "language_info": {
   "codemirror_mode": {
    "name": "ipython",
    "version": 3
   },
   "file_extension": ".py",
   "mimetype": "text/x-python",
   "name": "python",
   "nbconvert_exporter": "python",
   "pygments_lexer": "ipython3",
   "version": "3.10.12"
  }
 },
 "nbformat": 4,
 "nbformat_minor": 2
}
