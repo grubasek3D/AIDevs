{
 "cells": [
  {
   "cell_type": "code",
   "execution_count": null,
   "metadata": {},
   "outputs": [],
   "source": [
    "from task_manager import TaskManager\n",
    "import json\n",
    "from openai import OpenAI\n",
    "from time import sleep\n",
    "# Tworzymy instancję TaskManager\n",
    "task_manager = TaskManager()"
   ]
  },
  {
   "cell_type": "code",
   "execution_count": null,
   "metadata": {},
   "outputs": [],
   "source": [
    "taskName = \"scraper\"\n",
    "\n",
    "# pobranie tokena\n",
    "token = task_manager.getToken(taskName)\n",
    "\n",
    "# pobranie podpowiedzi\n",
    "# task_manager.getHint(taskName)\n",
    "\n",
    "task = task_manager.getTask(token)"
   ]
  },
  {
   "cell_type": "code",
   "execution_count": null,
   "metadata": {},
   "outputs": [],
   "source": [
    "link = task[\"input\"]\n",
    "filename = link.split(\"/\")[-1]\n",
    "# response = task_manager.sendData(token, {\"question\": question})\n",
    "print(link)\n",
    "print(filename)\n",
    "\n",
    "task_manager.downloadFile(link, filename)\n",
    "with open(filename) as f:\n",
    "    context = f.read()"
   ]
  },
  {
   "cell_type": "code",
   "execution_count": null,
   "metadata": {},
   "outputs": [],
   "source": [
    "client = OpenAI()\n",
    "msg = task[\"msg\"]\n",
    "question = task[\"question\"]\n",
    "print(f\"msg: {msg}\")\n",
    "print(f\"question: {question}\")\n",
    "# response_answer = response[\"answer\"]\n",
    "model = \"gpt-3.5-turbo\"\n",
    "message = [\n",
    "        {\"role\": \"system\",\n",
    "        \"content\": f\"\"\"{msg}\n",
    "                    context###{context}###\"\"\"},\n",
    "        \n",
    "        {\"role\": \"user\",\n",
    "        \"content\": f\"{question}\"}\n",
    "        ]\n",
    "\n",
    "response = client.chat.completions.create(\n",
    "    model = model,\n",
    "    messages = message\n",
    ").model_dump()\n",
    "\n",
    "answer = response[\"choices\"][0][\"message\"][\"content\"]\n",
    "print(f\"answer: {answer}\")\n",
    "task_manager.submitAnswer(token, answer)"
   ]
  },
  {
   "cell_type": "code",
   "execution_count": null,
   "metadata": {},
   "outputs": [],
   "source": [
    "print(response.text)"
   ]
  },
  {
   "cell_type": "code",
   "execution_count": null,
   "metadata": {},
   "outputs": [],
   "source": [
    "answer = response.text\n",
    "# print(len(answer))\n",
    "\n",
    "task_manager.submitAnswer(token, answer)"
   ]
  }
 ],
 "metadata": {
  "kernelspec": {
   "display_name": "base",
   "language": "python",
   "name": "python3"
  },
  "language_info": {
   "codemirror_mode": {
    "name": "ipython",
    "version": 3
   },
   "file_extension": ".py",
   "mimetype": "text/x-python",
   "name": "python",
   "nbconvert_exporter": "python",
   "pygments_lexer": "ipython3",
   "version": "3.10.12"
  }
 },
 "nbformat": 4,
 "nbformat_minor": 2
}
