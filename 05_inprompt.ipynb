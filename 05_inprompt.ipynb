{
 "cells": [
  {
   "cell_type": "code",
   "execution_count": null,
   "metadata": {},
   "outputs": [],
   "source": [
    "from task_manager import TaskManager\n",
    "import json\n",
    "from openai import OpenAI\n",
    "# Tworzymy instancję TaskManager\n",
    "task_manager = TaskManager()"
   ]
  },
  {
   "cell_type": "code",
   "execution_count": null,
   "metadata": {},
   "outputs": [],
   "source": [
    "taskName = \"inprompt\"\n",
    "\n",
    "# pobranie tokena\n",
    "token = task_manager.getToken(taskName)\n",
    "\n",
    "# pobranie podpowiedzi\n",
    "task_manager.getHint(taskName)\n",
    "\n",
    "task = task_manager.getTask(token)"
   ]
  },
  {
   "cell_type": "code",
   "execution_count": null,
   "metadata": {},
   "outputs": [],
   "source": [
    "client = OpenAI()\n",
    "\n",
    "msg = task[\"msg\"]\n",
    "database = task[\"input\"]\n",
    "question = task[\"question\"]\n",
    "# response = task_manager.sendData(token, {\"question\": question})"
   ]
  },
  {
   "cell_type": "code",
   "execution_count": null,
   "metadata": {},
   "outputs": [],
   "source": [
    "# response_answer = response[\"answer\"]\n",
    "model = \"gpt-3.5-turbo\"\n",
    "message = [\n",
    "        {\"role\": \"system\",\n",
    "        \"content\": f\"\"\"{msg}\n",
    "                    context###{database}###\"\"\"},\n",
    "        \n",
    "        {\"role\": \"user\",\n",
    "        \"content\": f\"{question}\"}\n",
    "        ]\n",
    "\n",
    "answer = client.chat.completions.create(\n",
    "    model = model,\n",
    "    messages = message\n",
    ").model_dump()\n",
    "\n",
    "# print(answer[\"choices\"][0][\"message\"][\"content\"])\n",
    "task_manager.submitAnswer(token, answer[\"choices\"][0][\"message\"][\"content\"])"
   ]
  }
 ],
 "metadata": {
  "kernelspec": {
   "display_name": "base",
   "language": "python",
   "name": "python3"
  },
  "language_info": {
   "codemirror_mode": {
    "name": "ipython",
    "version": 3
   },
   "file_extension": ".py",
   "mimetype": "text/x-python",
   "name": "python",
   "nbconvert_exporter": "python",
   "pygments_lexer": "ipython3",
   "version": "3.9.16"
  }
 },
 "nbformat": 4,
 "nbformat_minor": 2
}
