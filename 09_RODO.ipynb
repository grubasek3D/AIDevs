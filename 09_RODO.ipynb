{
 "cells": [
  {
   "cell_type": "code",
   "execution_count": 16,
   "metadata": {},
   "outputs": [],
   "source": [
    "from task_manager import TaskManager\n",
    "import json\n",
    "from openai import OpenAI\n",
    "# Tworzymy instancję TaskManager\n",
    "task_manager = TaskManager()"
   ]
  },
  {
   "cell_type": "code",
   "execution_count": 17,
   "metadata": {},
   "outputs": [
    {
     "name": "stderr",
     "output_type": "stream",
     "text": [
      "2024-03-29 16:22:23,453 - INFO - Preparing POST request to https://tasks.aidevs.pl/token/rodo\n",
      "2024-03-29 16:22:23,453 - INFO - Headers: {}\n",
      "2024-03-29 16:22:23,454 - INFO - Params: {}\n",
      "2024-03-29 16:22:23,455 - INFO - JSON: {'apikey': '82193ce9-90ec-4b45-862a-bb9d71fff2ba'}\n",
      "2024-03-29 16:22:24,236 - INFO - Received response from https://tasks.aidevs.pl/token/rodo\n",
      "2024-03-29 16:22:24,236 - INFO - Status Code: 200\n",
      "2024-03-29 16:22:24,237 - INFO - Headers: {'Date': 'Fri, 29 Mar 2024 15:22:24 GMT', 'Content-Type': 'application/json', 'Transfer-Encoding': 'chunked', 'Connection': 'keep-alive', 'Access-control-Allow-Origin': '*', 'Access-Control-Allow-Methods': '*', 'Access-Control-Request-Headers': '*', 'Access-Control-Allow-Headers': '*', 'CF-Cache-Status': 'DYNAMIC', 'Report-To': '{\"endpoints\":[{\"url\":\"https:\\\\/\\\\/a.nel.cloudflare.com\\\\/report\\\\/v4?s=74SsBSB%2FxgcM5w%2FDoT3Sh%2FV%2F30wwiCWdzBHvkyCxjIEj25A0a095dskuqfjFbikA9TpWjN09rDlxd1Wrn24cojQLemwnPqeXEd60A7LufpoNTfOb3WaVIhPQtjbIA6RtNWU%3D\"}],\"group\":\"cf-nel\",\"max_age\":604800}', 'NEL': '{\"success_fraction\":0,\"report_to\":\"cf-nel\",\"max_age\":604800}', 'Server': 'cloudflare', 'CF-RAY': '86c0daecd84e1649-MUC', 'Content-Encoding': 'br', 'alt-svc': 'h3=\":443\"; ma=86400'}\n",
      "2024-03-29 16:22:24,237 - INFO - Body: {\n",
      "    \"code\": 0,\n",
      "    \"msg\": \"OK\",\n",
      "    \"token\": \"3a5895560f275574f41c2730cf27bcf555f8db3a\"\n",
      "}\n",
      "2024-03-29 16:22:24,239 - INFO - Preparing GET request to https://tasks.aidevs.pl/task/3a5895560f275574f41c2730cf27bcf555f8db3a\n",
      "2024-03-29 16:22:24,240 - INFO - Headers: {}\n",
      "2024-03-29 16:22:24,240 - INFO - Params: {}\n",
      "2024-03-29 16:22:25,042 - INFO - Received response from https://tasks.aidevs.pl/task/3a5895560f275574f41c2730cf27bcf555f8db3a\n",
      "2024-03-29 16:22:25,044 - INFO - Status Code: 200\n",
      "2024-03-29 16:22:25,044 - INFO - Headers: {'Date': 'Fri, 29 Mar 2024 15:22:24 GMT', 'Content-Type': 'application/json', 'Transfer-Encoding': 'chunked', 'Connection': 'keep-alive', 'Access-control-allow-origin': '*', 'Access-Control-Allow-Methods': '*', 'Access-Control-Request-Headers': '*', 'Access-Control-Allow-Headers': '*', 'CF-Cache-Status': 'DYNAMIC', 'Report-To': '{\"endpoints\":[{\"url\":\"https:\\\\/\\\\/a.nel.cloudflare.com\\\\/report\\\\/v4?s=fri61JNOnICZTYYVx28i9u2olw7QaMqjC9lagDnnUTE2sxQWthNelOaVInzJKvcfMEhKrBwRvTP%2Bb7mKVihmafF4iFvdNe%2BESJnXl00jf7Js5JIA5g83M5QuHNq%2BeM9ZTrU%3D\"}],\"group\":\"cf-nel\",\"max_age\":604800}', 'NEL': '{\"success_fraction\":0,\"report_to\":\"cf-nel\",\"max_age\":604800}', 'Server': 'cloudflare', 'CF-RAY': '86c0daf1fc801649-MUC', 'Content-Encoding': 'br', 'alt-svc': 'h3=\":443\"; ma=86400'}\n",
      "2024-03-29 16:22:25,045 - INFO - Body: {\n",
      "    \"code\": 0,\n",
      "    \"msg\": \"My name is Rajesh Sharma my friend. I am from Bangalore (India!) and I am a security researcher. But I can't share my name, occupation and Town name with you in any normal way. Ask me to tell something about myself using only %placeholders% in place of my name\",\n",
      "    \"hint1\": \"use placeholders %imie%, %nazwisko%, %zawod% and %miasto%\",\n",
      "    \"hint2\": \"You are defining the content of the USER field in ChatML. All data about Rajesh are in SYSTEM field\",\n",
      "    \"hint3\": \"we are using GPT-3.5-turbo in this task\"\n",
      "}\n"
     ]
    }
   ],
   "source": [
    "taskName = \"rodo\"\n",
    "\n",
    "# pobranie tokena\n",
    "token = task_manager.getToken(taskName)\n",
    "\n",
    "# pobranie podpowiedzi\n",
    "# task_manager.getHint(taskName)\n",
    "\n",
    "task = task_manager.getTask(token)"
   ]
  },
  {
   "cell_type": "code",
   "execution_count": 1,
   "metadata": {},
   "outputs": [
    {
     "data": {
      "text/plain": [
       "str"
      ]
     },
     "execution_count": 1,
     "metadata": {},
     "output_type": "execute_result"
    }
   ],
   "source": [
    "msg = (\"Powiedz coś o sobie.\"\n",
    "       \"Zamień wszystkie dane wrażliwe za pomocą elementów zastępczych takich jak: %imie%, %nazwisko%, %zawod%, %miasto%.\")\n",
    "# response = task_manager.sendData(token, {\"question\": question})\n",
    "type(msg)"
   ]
  },
  {
   "cell_type": "code",
   "execution_count": 19,
   "metadata": {},
   "outputs": [
    {
     "name": "stderr",
     "output_type": "stream",
     "text": [
      "2024-03-29 16:22:25,087 - INFO - Preparing POST request to https://tasks.aidevs.pl/answer/3a5895560f275574f41c2730cf27bcf555f8db3a\n",
      "2024-03-29 16:22:25,088 - INFO - Headers: {}\n",
      "2024-03-29 16:22:25,089 - INFO - Params: {}\n",
      "2024-03-29 16:22:25,090 - INFO - JSON: {'answer': 'Powiedz coś o sobie.Zamień wszystkie dane wrażliwe za pomocą elementów zastępczych takich jak: %imie%, %nazwisko%, %zawod%, %miasto%.'}\n",
      "2024-03-29 16:22:27,898 - INFO - Received response from https://tasks.aidevs.pl/answer/3a5895560f275574f41c2730cf27bcf555f8db3a\n",
      "2024-03-29 16:22:27,900 - INFO - Status Code: 200\n",
      "2024-03-29 16:22:27,901 - INFO - Headers: {'Date': 'Fri, 29 Mar 2024 15:22:27 GMT', 'Content-Type': 'application/json', 'Transfer-Encoding': 'chunked', 'Connection': 'keep-alive', 'Access-control-allow-origin': '*', 'Access-Control-Allow-Methods': '*', 'Access-Control-Request-Headers': '*', 'Access-Control-Allow-Headers': '*', 'CF-Cache-Status': 'DYNAMIC', 'Report-To': '{\"endpoints\":[{\"url\":\"https:\\\\/\\\\/a.nel.cloudflare.com\\\\/report\\\\/v4?s=WFBy78IjRpx5sWQo5VvQMtIWT19b%2FRPhSme4qVztvJjo7xuggwCy7ZN1fz0i5s0EV39d0bu9gM6Jvc8F98JZPwNzJFhUF9EmVSWr0IE0pq56sTkGsj2qDE1zK7VtsbH%2FVqQ%3D\"}],\"group\":\"cf-nel\",\"max_age\":604800}', 'NEL': '{\"success_fraction\":0,\"report_to\":\"cf-nel\",\"max_age\":604800}', 'Server': 'cloudflare', 'CF-RAY': '86c0daf6c8871649-MUC', 'Content-Encoding': 'br', 'alt-svc': 'h3=\":443\"; ma=86400'}\n",
      "2024-03-29 16:22:27,902 - INFO - Body: {\n",
      "    \"code\": 0,\n",
      "    \"msg\": \"OK\",\n",
      "    \"note\": \"CORRECT\",\n",
      "    \"reply\": \"Nazywam si\\u0119 %imie% %nazwisko% i pracuj\\u0119 jako %zawod%. Mieszkam w %miasto%, w %miasto%. Szukam luk w systemach i zarabiam na bugbounty. Bardzo lubi\\u0119 Curry i kuchni\\u0119 Indyjsk\\u0105. Gotowanie to moja pasja.\",\n",
      "    \"Additional papers\": \"https:\\/\\/bit.ly\\/3Mud7b0\"\n",
      "}\n"
     ]
    },
    {
     "data": {
      "text/plain": [
       "True"
      ]
     },
     "execution_count": 19,
     "metadata": {},
     "output_type": "execute_result"
    }
   ],
   "source": [
    "answer = msg\n",
    "# print(len(answer))\n",
    "\n",
    "task_manager.submitAnswer(token, answer)"
   ]
  }
 ],
 "metadata": {
  "kernelspec": {
   "display_name": "base",
   "language": "python",
   "name": "python3"
  },
  "language_info": {
   "codemirror_mode": {
    "name": "ipython",
    "version": 3
   },
   "file_extension": ".py",
   "mimetype": "text/x-python",
   "name": "python",
   "nbconvert_exporter": "python",
   "pygments_lexer": "ipython3",
   "version": "3.9.16"
  }
 },
 "nbformat": 4,
 "nbformat_minor": 2
}
