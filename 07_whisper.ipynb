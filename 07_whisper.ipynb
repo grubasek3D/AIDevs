{
 "cells": [
  {
   "cell_type": "code",
   "execution_count": null,
   "metadata": {},
   "outputs": [],
   "source": [
    "from task_manager import TaskManager\n",
    "import json\n",
    "from openai import audio, OpenAI\n",
    "# Tworzymy instancję TaskManager\n",
    "task_manager = TaskManager()"
   ]
  },
  {
   "cell_type": "code",
   "execution_count": null,
   "metadata": {},
   "outputs": [],
   "source": [
    "taskName = \"whisper\"\n",
    "\n",
    "# pobranie tokena\n",
    "token = task_manager.getToken(taskName)\n",
    "\n",
    "# pobranie podpowiedzi\n",
    "# task_manager.getHint(taskName)\n",
    "\n",
    "task = task_manager.getTask(token)"
   ]
  },
  {
   "cell_type": "code",
   "execution_count": null,
   "metadata": {},
   "outputs": [],
   "source": [
    "client = OpenAI()\n",
    "\n",
    "link = task[\"msg\"].split(\": \")[1]\n",
    "filename = link.split(\"/\")[-1]\n",
    "# response = task_manager.sendData(token, {\"question\": question})\n",
    "print(link)\n",
    "print(filename)\n",
    "\n",
    "# task_manager.downloadFile(link, filename)"
   ]
  },
  {
   "cell_type": "code",
   "execution_count": null,
   "metadata": {},
   "outputs": [],
   "source": [
    "# response_answer = response[\"answer\"]\n",
    "model = \"whisper-1\"\n",
    "\n",
    "response = audio.transcriptions.create(\n",
    "    file = open(filename, \"rb\"),\n",
    "    model = model\n",
    ")\n"
   ]
  },
  {
   "cell_type": "code",
   "execution_count": null,
   "metadata": {},
   "outputs": [],
   "source": [
    "print(response.text)"
   ]
  },
  {
   "cell_type": "code",
   "execution_count": null,
   "metadata": {},
   "outputs": [],
   "source": [
    "answer = response.text\n",
    "# print(len(answer))\n",
    "\n",
    "task_manager.submitAnswer(token, answer)"
   ]
  }
 ],
 "metadata": {
  "kernelspec": {
   "display_name": "base",
   "language": "python",
   "name": "python3"
  },
  "language_info": {
   "codemirror_mode": {
    "name": "ipython",
    "version": 3
   },
   "file_extension": ".py",
   "mimetype": "text/x-python",
   "name": "python",
   "nbconvert_exporter": "python",
   "pygments_lexer": "ipython3",
   "version": "3.9.16"
  }
 },
 "nbformat": 4,
 "nbformat_minor": 2
}
