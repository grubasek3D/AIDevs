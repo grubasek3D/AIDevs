{
 "cells": [
  {
   "cell_type": "code",
   "execution_count": 12,
   "metadata": {},
   "outputs": [],
   "source": [
    "from task_manager import TaskManager\n",
    "import json\n",
    "from openai import audio, OpenAI\n",
    "# Tworzymy instancję TaskManager\n",
    "task_manager = TaskManager()"
   ]
  },
  {
   "cell_type": "code",
   "execution_count": 13,
   "metadata": {},
   "outputs": [
    {
     "name": "stderr",
     "output_type": "stream",
     "text": [
      "2024-03-27 22:37:35,846 - INFO - Preparing POST request to https://tasks.aidevs.pl/token/whisper\n",
      "2024-03-27 22:37:35,854 - INFO - Headers: {}\n",
      "2024-03-27 22:37:35,854 - INFO - Params: {}\n",
      "2024-03-27 22:37:35,855 - INFO - JSON: {'apikey': '82193ce9-90ec-4b45-862a-bb9d71fff2ba'}\n",
      "2024-03-27 22:37:36,586 - INFO - Received response from https://tasks.aidevs.pl/token/whisper\n",
      "2024-03-27 22:37:36,588 - INFO - Status Code: 200\n",
      "2024-03-27 22:37:36,589 - INFO - Headers: {'Date': 'Wed, 27 Mar 2024 21:37:36 GMT', 'Content-Type': 'application/json', 'Transfer-Encoding': 'chunked', 'Connection': 'keep-alive', 'Access-control-Allow-Origin': '*', 'Access-Control-Allow-Methods': '*', 'Access-Control-Request-Headers': '*', 'Access-Control-Allow-Headers': '*', 'CF-Cache-Status': 'DYNAMIC', 'Report-To': '{\"endpoints\":[{\"url\":\"https:\\\\/\\\\/a.nel.cloudflare.com\\\\/report\\\\/v4?s=ZAPPbxlR1jY3NVVMFlT%2FJzV0goPrM3yPKnMQ5KWtsYqHPUbO3oezC5CnlRGSjVx302rKyV45V7UHoXgIy19GcO9Mn1qde6zf4KN7gWll%2FbsB2jQBU0RGM%2Fe0DJnzwb8a7NQ%3D\"}],\"group\":\"cf-nel\",\"max_age\":604800}', 'NEL': '{\"success_fraction\":0,\"report_to\":\"cf-nel\",\"max_age\":604800}', 'Server': 'cloudflare', 'CF-RAY': '86b285cb2844b3af-MUC', 'Content-Encoding': 'br', 'alt-svc': 'h3=\":443\"; ma=86400'}\n",
      "2024-03-27 22:37:36,589 - INFO - Body: {\n",
      "    \"code\": 0,\n",
      "    \"msg\": \"OK\",\n",
      "    \"token\": \"21b584d234540588b738299e2c3a5d6595e7b632\"\n",
      "}\n",
      "2024-03-27 22:37:36,591 - INFO - Preparing GET request to https://tasks.aidevs.pl/task/21b584d234540588b738299e2c3a5d6595e7b632\n",
      "2024-03-27 22:37:36,591 - INFO - Headers: {}\n",
      "2024-03-27 22:37:36,591 - INFO - Params: {}\n",
      "2024-03-27 22:37:37,263 - INFO - Received response from https://tasks.aidevs.pl/task/21b584d234540588b738299e2c3a5d6595e7b632\n",
      "2024-03-27 22:37:37,263 - INFO - Status Code: 200\n",
      "2024-03-27 22:37:37,264 - INFO - Headers: {'Date': 'Wed, 27 Mar 2024 21:37:37 GMT', 'Content-Type': 'application/json', 'Transfer-Encoding': 'chunked', 'Connection': 'keep-alive', 'Access-control-allow-origin': '*', 'Access-Control-Allow-Methods': '*', 'Access-Control-Request-Headers': '*', 'Access-Control-Allow-Headers': '*', 'CF-Cache-Status': 'DYNAMIC', 'Report-To': '{\"endpoints\":[{\"url\":\"https:\\\\/\\\\/a.nel.cloudflare.com\\\\/report\\\\/v4?s=VcK6fMG8PyYVNKdFd8lFtiKBJ%2BQQOX4N6s57RIALNCInnI7Fe%2B0a80NdLNKN%2BeprExhCmVWrDqv2tK5lHaSPhN8T6nupirYmjDcXSOBVLttKKBMOIvwakJFb8bWB2YPzpbY%3D\"}],\"group\":\"cf-nel\",\"max_age\":604800}', 'NEL': '{\"success_fraction\":0,\"report_to\":\"cf-nel\",\"max_age\":604800}', 'Server': 'cloudflare', 'CF-RAY': '86b285cf7d24b3af-MUC', 'Content-Encoding': 'br', 'alt-svc': 'h3=\":443\"; ma=86400'}\n",
      "2024-03-27 22:37:37,265 - INFO - Body: {\n",
      "    \"code\": 0,\n",
      "    \"msg\": \"please return transcription of this file: https:\\/\\/tasks.aidevs.pl\\/data\\/mateusz.mp3\",\n",
      "    \"hint\": \"use WHISPER model - https:\\/\\/platform.openai.com\\/docs\\/guides\\/speech-to-text\"\n",
      "}\n"
     ]
    }
   ],
   "source": [
    "taskName = \"whisper\"\n",
    "\n",
    "# pobranie tokena\n",
    "token = task_manager.getToken(taskName)\n",
    "\n",
    "# pobranie podpowiedzi\n",
    "# task_manager.getHint(taskName)\n",
    "\n",
    "task = task_manager.getTask(token)"
   ]
  },
  {
   "cell_type": "code",
   "execution_count": 14,
   "metadata": {},
   "outputs": [
    {
     "name": "stdout",
     "output_type": "stream",
     "text": [
      "https://tasks.aidevs.pl/data/mateusz.mp3\n",
      "mateusz.mp3\n"
     ]
    }
   ],
   "source": [
    "client = OpenAI()\n",
    "\n",
    "link = task[\"msg\"].split(\": \")[1]\n",
    "filename = link.split(\"/\")[-1]\n",
    "# response = task_manager.sendData(token, {\"question\": question})\n",
    "print(link)\n",
    "print(filename)\n",
    "\n",
    "# task_manager.downloadFile(link, filename)"
   ]
  },
  {
   "cell_type": "code",
   "execution_count": 15,
   "metadata": {},
   "outputs": [
    {
     "name": "stderr",
     "output_type": "stream",
     "text": [
      "2024-03-27 22:37:41,389 - INFO - HTTP Request: POST https://api.openai.com/v1/audio/transcriptions \"HTTP/1.1 200 OK\"\n"
     ]
    }
   ],
   "source": [
    "# response_answer = response[\"answer\"]\n",
    "model = \"whisper-1\"\n",
    "\n",
    "response = audio.transcriptions.create(\n",
    "    file = open(filename, \"rb\"),\n",
    "    model = model\n",
    ")\n"
   ]
  },
  {
   "cell_type": "code",
   "execution_count": 16,
   "metadata": {},
   "outputs": [
    {
     "name": "stdout",
     "output_type": "stream",
     "text": [
      "Cześć! Kiedy ostatnio korzystaliście z sztucznej inteligencji, czy zastanawialiście się nad tym, skąd czerpie ona swoją wiedzę? No pewnie, że tak, inaczej nie byłoby was tutaj na szkoleniu. Ale czy przemyśleliście możliwość dostosowania tej wiedzy do waszych własnych, indywidualnych potrzeb?\n"
     ]
    }
   ],
   "source": [
    "print(response.text)"
   ]
  },
  {
   "cell_type": "code",
   "execution_count": 17,
   "metadata": {},
   "outputs": [
    {
     "name": "stderr",
     "output_type": "stream",
     "text": [
      "2024-03-27 22:37:41,429 - INFO - Preparing POST request to https://tasks.aidevs.pl/answer/21b584d234540588b738299e2c3a5d6595e7b632\n",
      "2024-03-27 22:37:41,430 - INFO - Headers: {}\n",
      "2024-03-27 22:37:41,430 - INFO - Params: {}\n",
      "2024-03-27 22:37:41,431 - INFO - JSON: {'answer': 'Cześć! Kiedy ostatnio korzystaliście z sztucznej inteligencji, czy zastanawialiście się nad tym, skąd czerpie ona swoją wiedzę? No pewnie, że tak, inaczej nie byłoby was tutaj na szkoleniu. Ale czy przemyśleliście możliwość dostosowania tej wiedzy do waszych własnych, indywidualnych potrzeb?'}\n",
      "2024-03-27 22:37:43,254 - INFO - Received response from https://tasks.aidevs.pl/answer/21b584d234540588b738299e2c3a5d6595e7b632\n",
      "2024-03-27 22:37:43,254 - INFO - Status Code: 200\n",
      "2024-03-27 22:37:43,254 - INFO - Headers: {'Date': 'Wed, 27 Mar 2024 21:37:42 GMT', 'Content-Type': 'application/json', 'Transfer-Encoding': 'chunked', 'Connection': 'keep-alive', 'Access-control-allow-origin': '*', 'Access-Control-Allow-Methods': '*', 'Access-Control-Request-Headers': '*', 'Access-Control-Allow-Headers': '*', 'CF-Cache-Status': 'DYNAMIC', 'Report-To': '{\"endpoints\":[{\"url\":\"https:\\\\/\\\\/a.nel.cloudflare.com\\\\/report\\\\/v4?s=yGy09jhXq3%2FVwyqo5nEOXjgD7Xvbfv06QH%2BDM1oZjS4a8U6fEr%2Bu%2FOz4AlYPksJI5ffc6n4Pu1th5Z%2FOJr%2BfE7WO%2FIw8Urtvkwj59Sv5kA7YhYqC5yLFWd%2BgtUO0Z8%2BoJdM%3D\"}],\"group\":\"cf-nel\",\"max_age\":604800}', 'NEL': '{\"success_fraction\":0,\"report_to\":\"cf-nel\",\"max_age\":604800}', 'Server': 'cloudflare', 'CF-RAY': '86b285f32d55b3af-MUC', 'Content-Encoding': 'br', 'alt-svc': 'h3=\":443\"; ma=86400'}\n",
      "2024-03-27 22:37:43,254 - INFO - Body: {\n",
      "    \"code\": 0,\n",
      "    \"msg\": \"OK\",\n",
      "    \"note\": \"CORRECT\"\n",
      "}\n"
     ]
    },
    {
     "data": {
      "text/plain": [
       "True"
      ]
     },
     "execution_count": 17,
     "metadata": {},
     "output_type": "execute_result"
    }
   ],
   "source": [
    "answer = response.text\n",
    "# print(len(answer))\n",
    "\n",
    "task_manager.submitAnswer(token, answer)"
   ]
  }
 ],
 "metadata": {
  "kernelspec": {
   "display_name": "base",
   "language": "python",
   "name": "python3"
  },
  "language_info": {
   "codemirror_mode": {
    "name": "ipython",
    "version": 3
   },
   "file_extension": ".py",
   "mimetype": "text/x-python",
   "name": "python",
   "nbconvert_exporter": "python",
   "pygments_lexer": "ipython3",
   "version": "3.9.16"
  }
 },
 "nbformat": 4,
 "nbformat_minor": 2
}
