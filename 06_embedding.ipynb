{
 "cells": [
  {
   "cell_type": "code",
   "execution_count": null,
   "metadata": {},
   "outputs": [],
   "source": [
    "from task_manager import TaskManager\n",
    "import json\n",
    "from openai import OpenAI\n",
    "# Tworzymy instancję TaskManager\n",
    "task_manager = TaskManager()"
   ]
  },
  {
   "cell_type": "code",
   "execution_count": null,
   "metadata": {},
   "outputs": [],
   "source": [
    "taskName = \"embedding\"\n",
    "\n",
    "# pobranie tokena\n",
    "token = task_manager.getToken(taskName)\n",
    "\n",
    "# pobranie podpowiedzi\n",
    "# task_manager.getHint(taskName)\n",
    "\n",
    "task = task_manager.getTask(token)"
   ]
  },
  {
   "cell_type": "code",
   "execution_count": null,
   "metadata": {},
   "outputs": [],
   "source": [
    "client = OpenAI()\n",
    "\n",
    "msg = \"Hawaiian pizza\"\n",
    "# response = task_manager.sendData(token, {\"question\": question})\n",
    "# print(msg)"
   ]
  },
  {
   "cell_type": "code",
   "execution_count": null,
   "metadata": {},
   "outputs": [],
   "source": [
    "# response_answer = response[\"answer\"]\n",
    "model = \"text-embedding-ada-002\"\n",
    "message = [msg]\n",
    "\n",
    "response = client.embeddings.create(\n",
    "    input = message,\n",
    "    model = model\n",
    ")"
   ]
  },
  {
   "cell_type": "code",
   "execution_count": null,
   "metadata": {},
   "outputs": [],
   "source": [
    "answer = response.data[0].embedding\n",
    "# print(len(answer))\n",
    "\n",
    "task_manager.submitAnswer(token, answer)"
   ]
  }
 ],
 "metadata": {
  "kernelspec": {
   "display_name": "base",
   "language": "python",
   "name": "python3"
  },
  "language_info": {
   "codemirror_mode": {
    "name": "ipython",
    "version": 3
   },
   "file_extension": ".py",
   "mimetype": "text/x-python",
   "name": "python",
   "nbconvert_exporter": "python",
   "pygments_lexer": "ipython3",
   "version": "3.9.16"
  }
 },
 "nbformat": 4,
 "nbformat_minor": 2
}
